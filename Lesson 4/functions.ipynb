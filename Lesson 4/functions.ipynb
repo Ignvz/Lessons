{
 "cells": [
  {
   "cell_type": "code",
   "execution_count": 1,
   "id": "de428d2f-f415-4e8d-b5ed-c1c27863b46a",
   "metadata": {},
   "outputs": [
    {
     "name": "stdout",
     "output_type": "stream",
     "text": [
      "functions.ipynb    temp_converter.py\n"
     ]
    }
   ],
   "source": [
    "%ls"
   ]
  },
  {
   "cell_type": "code",
   "execution_count": 3,
   "id": "58f28293-8ded-4d04-9789-da62561f4b06",
   "metadata": {},
   "outputs": [
    {
     "name": "stdout",
     "output_type": "stream",
     "text": [
      "The freezing point of water in Fahrenheit is 32.0\n"
     ]
    }
   ],
   "source": [
    "from temp_converter import celsius_to_fahr\n",
    "print(f\"The freezing point of water in Fahrenheit is {celsius_to_fahr(0)}\")"
   ]
  },
  {
   "cell_type": "code",
   "execution_count": 4,
   "id": "5136a8c2-44d1-4e8d-86b6-e8bdbe3e7a1b",
   "metadata": {},
   "outputs": [],
   "source": [
    "import temp_converter as tc"
   ]
  },
  {
   "cell_type": "code",
   "execution_count": 5,
   "id": "13f34e85-10c3-484b-b056-a1290941ef94",
   "metadata": {},
   "outputs": [
    {
     "name": "stdout",
     "output_type": "stream",
     "text": [
      "The freezing point of water in Fahrenheit is 32.0\n"
     ]
    }
   ],
   "source": [
    "print(f\"The freezing point of water in Fahrenheit is {tc.celsius_to_fahr(0)}\")"
   ]
  },
  {
   "cell_type": "code",
   "execution_count": 6,
   "id": "16b178ab-8144-414c-8133-515ef94d0491",
   "metadata": {},
   "outputs": [
    {
     "name": "stdout",
     "output_type": "stream",
     "text": [
      "Absolute zero in Celsius is -273.15\n"
     ]
    }
   ],
   "source": [
    "print(f\"Absolute zero in Celsius is {tc.kelvins_to_celsius(temp_kelvins=0)}\")"
   ]
  },
  {
   "cell_type": "code",
   "execution_count": 7,
   "id": "e79c85de-b5fa-4088-85e9-3ade65e4e60f",
   "metadata": {},
   "outputs": [
    {
     "name": "stdout",
     "output_type": "stream",
     "text": [
      "Absolute zero in Fahrenheit is -459.66999999999996\n"
     ]
    }
   ],
   "source": [
    "print(f\"Absolute zero in Fahrenheit is {tc.kelvins_to_fahr(temp_kelvins=0)}\")"
   ]
  },
  {
   "cell_type": "code",
   "execution_count": null,
   "id": "e19c09ae-8157-4f01-a2e6-ae2c3edb42da",
   "metadata": {},
   "outputs": [],
   "source": []
  }
 ],
 "metadata": {
  "kernelspec": {
   "display_name": "Python 3",
   "language": "python",
   "name": "python3"
  },
  "language_info": {
   "codemirror_mode": {
    "name": "ipython",
    "version": 3
   },
   "file_extension": ".py",
   "mimetype": "text/x-python",
   "name": "python",
   "nbconvert_exporter": "python",
   "pygments_lexer": "ipython3",
   "version": "3.8.8"
  }
 },
 "nbformat": 4,
 "nbformat_minor": 5
}
